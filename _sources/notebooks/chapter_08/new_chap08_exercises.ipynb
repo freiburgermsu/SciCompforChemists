{
 "cells": [
  {
   "cell_type": "markdown",
   "id": "0b9347e1-f4f9-4d0f-9848-6eff30386235",
   "metadata": {},
   "source": [
    "# Possible New Exercises (not in book yet)"
   ]
  },
  {
   "cell_type": "markdown",
   "id": "17cc32ff-da77-4248-a9be-93bc0089225e",
   "metadata": {},
   "source": [
    "### Problem\n",
    "\n",
    "Derive the second-order integrated rate law. This process has been started for you.\n",
    "\n",
    "$$ Rate = k[A]^2 $$\n",
    "\n",
    "$$ \\frac{-d[A]}{dt} = kdt $$\n",
    "\n",
    "$$ \\frac{d[A]}{[A]^2} = -kdt $$\n",
    "\n",
    "$$ \\int^t_0 \\frac{1}{[A]^2}d[A] = -k \\int^t_0dt $$"
   ]
  },
  {
   "cell_type": "code",
   "execution_count": 74,
   "id": "4c279cab-e0dd-4dd9-8c1e-4feebdbdf0fa",
   "metadata": {},
   "outputs": [],
   "source": [
    "A, t = sympy.symbols('A t')"
   ]
  },
  {
   "cell_type": "code",
   "execution_count": 75,
   "id": "23e1d0b9-894e-4cd2-9931-a407f149c2fd",
   "metadata": {},
   "outputs": [
    {
     "data": {
      "text/latex": [
       "$\\displaystyle - \\frac{1}{A}$"
      ],
      "text/plain": [
       "-1/A"
      ]
     },
     "execution_count": 75,
     "metadata": {},
     "output_type": "execute_result"
    }
   ],
   "source": [
    "sympy.integrate(1/(A**2), A)"
   ]
  },
  {
   "cell_type": "code",
   "execution_count": 76,
   "id": "275034e8-24b1-4d83-9a76-e7d065f59931",
   "metadata": {},
   "outputs": [
    {
     "data": {
      "text/latex": [
       "$\\displaystyle t$"
      ],
      "text/plain": [
       "t"
      ]
     },
     "execution_count": 76,
     "metadata": {},
     "output_type": "execute_result"
    }
   ],
   "source": [
    "sympy.integrate(1, t)"
   ]
  },
  {
   "cell_type": "code",
   "execution_count": 77,
   "id": "56183823-60ad-41b4-a462-e90347dcaaa5",
   "metadata": {},
   "outputs": [
    {
     "data": {
      "text/latex": [
       "$\\displaystyle 2.0 A^{0.5}$"
      ],
      "text/plain": [
       "2.0*A**0.5"
      ]
     },
     "execution_count": 77,
     "metadata": {},
     "output_type": "execute_result"
    }
   ],
   "source": [
    "sympy.integrate(1/(A**0.5), A)"
   ]
  },
  {
   "cell_type": "markdown",
   "id": "e7145a01-ddb1-47c4-ac3a-7a94e48688c7",
   "metadata": {},
   "source": [
    "### Problem\n",
    "\n",
    "The rate of a reaction is described by the following equation, and the amount of reactant A consumed can be calculated by multiplying the rate by time. Integrate under this curve to find the amound of reactant (A) consumed in the first 30 minutes."
   ]
  },
  {
   "cell_type": "code",
   "execution_count": 78,
   "id": "b013daa0-be64-4f38-8084-d400b32ace57",
   "metadata": {},
   "outputs": [],
   "source": [
    "x = sympy.symbols('x')"
   ]
  },
  {
   "cell_type": "code",
   "execution_count": 79,
   "id": "4dae9817-b3e6-496b-8e71-4d73d64f3964",
   "metadata": {},
   "outputs": [
    {
     "data": {
      "text/latex": [
       "$\\displaystyle \\frac{1}{2}$"
      ],
      "text/plain": [
       "1/2"
      ]
     },
     "execution_count": 79,
     "metadata": {},
     "output_type": "execute_result"
    }
   ],
   "source": [
    "sympy.integrate(3-x, (x, 2,3))"
   ]
  },
  {
   "cell_type": "markdown",
   "id": "b823061d-2b52-49b4-9084-9c05d7d096a9",
   "metadata": {},
   "source": [
    "## Michaelis-Menten Kinetics\n",
    "\n",
    "Enzyme and human-made catalysts sometimes are described by Michaelis-Menten kinetic that produces the following rate law where $[E]$ is the catalyst concentration (constant), $[S]$ is the reactant concentration, and $k_{cat}$ and $K_M$ are both constants.\n",
    "\n",
    "$$ Rate = k[E]\\frac{[S]}{K_M + [S]}  $$\n",
    "\n",
    "The amount of reactions ($S$) consumed can be calculated by integrating under the rate equation. If $k_{cat} = 0.14 \\,  s^{-1}$ and $K_M = 1.5 \\times 10^{-2} M^{-1}$, how much substrate is consumed after 1000 seconds?"
   ]
  }
 ],
 "metadata": {
  "kernelspec": {
   "display_name": "Python 3 (ipykernel)",
   "language": "python",
   "name": "python3"
  },
  "language_info": {
   "codemirror_mode": {
    "name": "ipython",
    "version": 3
   },
   "file_extension": ".py",
   "mimetype": "text/x-python",
   "name": "python",
   "nbconvert_exporter": "python",
   "pygments_lexer": "ipython3",
   "version": "3.9.7"
  }
 },
 "nbformat": 4,
 "nbformat_minor": 5
}
