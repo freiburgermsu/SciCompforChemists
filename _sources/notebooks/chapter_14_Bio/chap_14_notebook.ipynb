{
 "cells": [
  {
   "cell_type": "markdown",
   "id": "2f0f7967-5d37-41be-937c-b49c1a840681",
   "metadata": {},
   "source": [
    "=(14)\n",
    "# Chapter 14: Biochemistry\n",
    "\n",
    "Bioinformatics is the field of working with biological and biochemical data, and while the data is fundamentally no different than the data seen so far, this field is large and significant enough to warrant its own chapter. More importantly, bioinformatics contains a multitude of different file formats making this a significant hurdle in working with the data. The good news is that these file formats are usually text files like seen in the previous chapters, and a multiple libraries exist to facilitate the loading and working with these file formats and data. This chapter will start by looking at a couple common file formats, PDB and fasta, parsing them with our own code followed by introducing the biopython library to perform the heavy lifting."
   ]
  },
  {
   "cell_type": "code",
   "execution_count": null,
   "id": "43e9a418-2648-4d55-98a1-2b1a95be29b0",
   "metadata": {},
   "outputs": [],
   "source": []
  },
  {
   "cell_type": "markdown",
   "id": "5ce42a7a-cd36-48b5-8e13-6d485cc908e9",
   "metadata": {},
   "source": [
    "=(14.1)\n",
    "## PDB and Fasta Files\n",
    "\n",
    "In this first section, we will look at PDB and fasta file formats and parse them with our own code as they are both simply text files. PDB files are designed to hold protein sequence and structural information while the fasta file format holds sequence data for proteins and nucleic acids. The fasta file format is simpler than the PDB file format, but there is significant amounts of structural data contained in the PDB file format not provided with just the sequence "
   ]
  },
  {
   "cell_type": "code",
   "execution_count": null,
   "id": "2aba0a66-b770-4f1d-ad4d-b487c8574713",
   "metadata": {},
   "outputs": [],
   "source": []
  },
  {
   "cell_type": "markdown",
   "id": "a021d2b9-204e-4fe1-994b-b348e2ec4db9",
   "metadata": {},
   "source": [
    "### 14.1.1 PDB Files\n",
    "\n",
    "When you open the terminal, you are greeted with a line that looks something like the"
   ]
  },
  {
   "cell_type": "code",
   "execution_count": null,
   "id": "7e17cfc1-13fb-4346-85df-e3f89dc5019d",
   "metadata": {},
   "outputs": [],
   "source": []
  },
  {
   "cell_type": "markdown",
   "id": "42b8c21d-51c4-46c5-b75a-6e8bb737561f",
   "metadata": {},
   "source": [
    "### 14.1.2 Fasta Files\n",
    "\n",
    "To "
   ]
  },
  {
   "cell_type": "markdown",
   "id": "c9b17bd2-d72d-43df-bba1-210742f79897",
   "metadata": {},
   "source": [
    "## 14.2 Parsing PDB Files\n",
    "\n"
   ]
  },
  {
   "cell_type": "markdown",
   "id": "666e85a4-8897-43bc-8975-29a573ef156a",
   "metadata": {},
   "source": []
  },
  {
   "cell_type": "markdown",
   "id": "60de35ab-f67f-4a41-a66d-7c87e2a56b9b",
   "metadata": {},
   "source": [
    "### 14.2.1 Native Python Code"
   ]
  },
  {
   "cell_type": "code",
   "execution_count": null,
   "id": "99e644e9-3d9b-4b4b-aa40-80990c20152f",
   "metadata": {},
   "outputs": [],
   "source": []
  },
  {
   "cell_type": "markdown",
   "id": "48e3ea4b-3c7f-4423-a506-09532dc78a11",
   "metadata": {},
   "source": [
    "### 14.2.2 Parsing PDB Files using Biopython"
   ]
  },
  {
   "cell_type": "code",
   "execution_count": null,
   "id": "12e998de-d06c-4092-a4dc-f209a55b9c05",
   "metadata": {},
   "outputs": [],
   "source": []
  },
  {
   "cell_type": "markdown",
   "id": "080c7ae0-9f8b-417a-b6e3-a708f1bb4ac4",
   "metadata": {},
   "source": [
    "## 14.3 Parsing Fasta Files"
   ]
  },
  {
   "cell_type": "code",
   "execution_count": null,
   "id": "7dc63f0a-2e4e-4460-a6fa-f9225165b9e8",
   "metadata": {},
   "outputs": [],
   "source": []
  },
  {
   "cell_type": "markdown",
   "id": "29c0e763-2d37-44fc-a38d-920f3b12003b",
   "metadata": {},
   "source": [
    "### 14.3.1 Native Python Code"
   ]
  },
  {
   "cell_type": "code",
   "execution_count": null,
   "id": "cf62997f-6e26-408a-a0e6-da265be4a5fd",
   "metadata": {},
   "outputs": [],
   "source": []
  },
  {
   "cell_type": "markdown",
   "id": "94131b06-5b6d-464d-b20f-f8875f52142d",
   "metadata": {},
   "source": [
    "### 14.3.2 Parting Fasta Files using Biopython"
   ]
  },
  {
   "cell_type": "code",
   "execution_count": null,
   "id": "2edfbf53-5e67-468d-a387-8f46dbaa09b0",
   "metadata": {},
   "outputs": [],
   "source": []
  },
  {
   "cell_type": "code",
   "execution_count": null,
   "id": "cdd5dd62-c91b-4cd6-8ee1-b496fab10b43",
   "metadata": {},
   "outputs": [],
   "source": []
  },
  {
   "cell_type": "markdown",
   "id": "8df04f36-3391-447f-a04c-250d9352d31a",
   "metadata": {},
   "source": [
    "## Further Reading\n",
    "\n",
    "1. PDB format documentation. https://www.wwpdb.org/documentation/file-format\n",
    "\n",
    "2. Biopython Website. https://biopython.org\n",
    "\n",
    "3. Scikit-bio Website. http://scikit-bio.org\n",
    "\n",
    "4. "
   ]
  },
  {
   "cell_type": "markdown",
   "id": "f3e8379e-70de-4e23-9b39-6bf5d2394c68",
   "metadata": {},
   "source": [
    "## Exercises\n",
    "\n"
   ]
  }
 ],
 "metadata": {
  "kernelspec": {
   "display_name": "Python 3 (ipykernel)",
   "language": "python",
   "name": "python3"
  },
  "language_info": {
   "codemirror_mode": {
    "name": "ipython",
    "version": 3
   },
   "file_extension": ".py",
   "mimetype": "text/x-python",
   "name": "python",
   "nbconvert_exporter": "python",
   "pygments_lexer": "ipython3",
   "version": "3.9.7"
  }
 },
 "nbformat": 4,
 "nbformat_minor": 5
}
